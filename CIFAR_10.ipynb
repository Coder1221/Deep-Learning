{
  "nbformat": 4,
  "nbformat_minor": 0,
  "metadata": {
    "accelerator": "GPU",
    "colab": {
      "name": "CNN_PartB_.ipynb",
      "provenance": [],
      "collapsed_sections": [],
      "toc_visible": true
    },
    "kernelspec": {
      "name": "python3",
      "display_name": "Python 3"
    },
    "language_info": {
      "codemirror_mode": {
        "name": "ipython",
        "version": 3
      },
      "file_extension": ".py",
      "mimetype": "text/x-python",
      "name": "python",
      "nbconvert_exporter": "python",
      "pygments_lexer": "ipython3",
      "version": "3.6.9"
    },
    "toc": {
      "base_numbering": 1,
      "nav_menu": {},
      "number_sections": true,
      "sideBar": true,
      "skip_h1_title": false,
      "title_cell": "Table of Contents",
      "title_sidebar": "Contents",
      "toc_cell": false,
      "toc_position": {},
      "toc_section_display": true,
      "toc_window_display": false
    }
  },
  "cells": [
    {
      "cell_type": "markdown",
      "metadata": {
        "colab_type": "text",
        "id": "cO-LXFwrBXuQ"
      },
      "source": [
        "# Homework 3  - Part B\n",
        "\n",
        "\n",
        "###### Roll Number:21100328"
      ]
    },
    {
      "cell_type": "markdown",
      "metadata": {
        "colab_type": "text",
        "id": "OAoT1ZfyBXuT"
      },
      "source": [
        "We'll start Part B by taking out a minute to thank creators of Tensorflow and Keras for making our lives easier. The goal of this home work is to design a convolutional neural network to classify images from CIFAR-10. CIFAR-10 is a subset of CIFAR-100 with 10 and 100 being number of classes. They were collected by Alex Krizhevsky, Vinod Nair, and Geoffrey Hinton. We'll be building small CNNs using Keras to solve this classification task.\n",
        "<br>\n",
        "\n",
        "Please note:\n",
        "- You have to save each trained model weights and tensorboard logs in different folder. Use proper names for the model\n",
        "- You have to show trainings in this notebook file, so make sure that the printings and figures are available on this notebook file\n",
        "- This notebook is also your report file. So add your comments and analysis of each task. Your comments and analysis are as important as your code. This would be considered short report and it is compulsory part of the homework.\n",
        "- Your system memory may overflow. In that case, please reset memory for trained model(s) keeping printed logs and history of trained model. History of all trained models could be used to plot the trends.\n",
        "- For trends you shall also use tensorboard logs "
      ]
    },
    {
      "cell_type": "markdown",
      "metadata": {
        "colab_type": "text",
        "id": "IylDbLLSBXuV"
      },
      "source": [
        "### Imports"
      ]
    },
    {
      "cell_type": "code",
      "metadata": {
        "id": "CK6wZ9kirVf3",
        "colab_type": "code",
        "colab": {}
      },
      "source": [
        "import keras\n",
        "from keras.models import Model\n",
        "from keras.layers import Dense, Input, Conv2D, MaxPooling2D, Dropout, Flatten, BatchNormalization\n",
        "from keras.optimizers import Adam , SGD\n",
        "from keras.callbacks import ModelCheckpoint, EarlyStopping, CSVLogger, ReduceLROnPlateau, TensorBoard\n",
        "from keras.utils import plot_model, to_categorical\n",
        "import keras.backend as K\n",
        "\n",
        "from sklearn.model_selection import train_test_split\n",
        "from IPython.display import display\n",
        "\n",
        "import cv2\n",
        "import numpy as np\n",
        "import pandas as pd\n",
        "%matplotlib inline\n",
        "import matplotlib.pyplot as plt\n",
        "plt.style.use('seaborn')\n",
        "\n",
        "# !pip install tensorflow==1.14\n",
        "import tensorflow as tf\n",
        "import os\n",
        "import glob\n",
        "your_id = 21100328\n",
        "np.random.seed(your_id)\n",
        "# os.listdir('drive/My Drive/fastai-v3/cifar/train')"
      ],
      "execution_count": 0,
      "outputs": []
    },
    {
      "cell_type": "code",
      "metadata": {
        "id": "C90bm57fsTyG",
        "colab_type": "code",
        "colab": {}
      },
      "source": [
        "# !pip install tensorflow-gpu==1.14"
      ],
      "execution_count": 0,
      "outputs": []
    },
    {
      "cell_type": "code",
      "metadata": {
        "id": "bp51Rporsu6V",
        "colab_type": "code",
        "outputId": "fa19c490-8433-4923-eb16-0ae751e9d6ff",
        "colab": {
          "base_uri": "https://localhost:8080/",
          "height": 122
        }
      },
      "source": [
        "from google.colab import drive\n",
        "drive.mount('/content/drive')"
      ],
      "execution_count": 0,
      "outputs": [
        {
          "output_type": "stream",
          "text": [
            "Go to this URL in a browser: https://accounts.google.com/o/oauth2/auth?client_id=947318989803-6bn6qk8qdgf4n4g3pfee6491hc0brc4i.apps.googleusercontent.com&redirect_uri=urn%3aietf%3awg%3aoauth%3a2.0%3aoob&response_type=code&scope=email%20https%3a%2f%2fwww.googleapis.com%2fauth%2fdocs.test%20https%3a%2f%2fwww.googleapis.com%2fauth%2fdrive%20https%3a%2f%2fwww.googleapis.com%2fauth%2fdrive.photos.readonly%20https%3a%2f%2fwww.googleapis.com%2fauth%2fpeopleapi.readonly\n",
            "\n",
            "Enter your authorization code:\n",
            "··········\n",
            "Mounted at /content/drive\n"
          ],
          "name": "stdout"
        }
      ]
    },
    {
      "cell_type": "code",
      "metadata": {
        "id": "Vem6Lf0xs5qj",
        "colab_type": "code",
        "colab": {}
      },
      "source": [
        "from zipfile import ZipFile\n",
        "with ZipFile('/content/drive/My Drive/fastai-v3/cifar.zip','r') as zipobj:\n",
        "  zipobj.extractall();"
      ],
      "execution_count": 0,
      "outputs": []
    },
    {
      "cell_type": "markdown",
      "metadata": {
        "colab_type": "text",
        "heading_collapsed": true,
        "id": "ZlKkASqNBXuh"
      },
      "source": [
        "###### Hyperparameters"
      ]
    },
    {
      "cell_type": "code",
      "metadata": {
        "id": "LIeyT1n8rVf9",
        "colab_type": "code",
        "outputId": "1e6f09a0-ba16-424f-b9a2-12a612ca5124",
        "colab": {
          "base_uri": "https://localhost:8080/",
          "height": 34
        }
      },
      "source": [
        "batch_size = 64\n",
        "num_classes = 10\n",
        "class_labels = np.arange(0, num_classes, 1)\n",
        "input_shape_cifar = (32,32,3)\n",
        "images_dir = '/content/cifar/'\n",
        "epochs = 8\n",
        "all_histories = []"
      ],
      "execution_count": 0,
      "outputs": [
        {
          "output_type": "execute_result",
          "data": {
            "text/plain": [
              "['test', 'train', 'labels.txt']"
            ]
          },
          "metadata": {
            "tags": []
          },
          "execution_count": 133
        }
      ]
    },
    {
      "cell_type": "markdown",
      "metadata": {
        "colab_type": "text",
        "id": "N5fwikYpBXum"
      },
      "source": [
        "### Task 1.1   Load dataset information\n",
        "Download the [CIFAR-10 Dataset](https://drive.google.com/drive/folders/1FPsts3C2tJMVQ1xcCi2XZdb2z_J2OjSr?usp=sharing) and setup your working directory. Be sure to put the dataset in the <code>images_dir</code> directory. We won't be loading images and will only store the file paths in memory. These file paths will be used to load and return batch of images in our generator. Feel free to explore the dataset in this section."
      ]
    },
    {
      "cell_type": "code",
      "metadata": {
        "id": "A91hjX-mrVgC",
        "colab_type": "code",
        "outputId": "f3227de6-71e2-4240-e04c-d1767be830d1",
        "colab": {
          "base_uri": "https://localhost:8080/",
          "height": 34
        }
      },
      "source": [
        "print(images_dir)\n",
        "train_dir = images_dir + 'train/'\n",
        "test_dir = images_dir + 'test/'\n",
        "label_dir = images_dir + 'labels.txt'\n",
        "\n",
        "# Use either os.listdir or glob to generate an array of file\n",
        "# paths for training and testing data (I would recommend using glob)\n",
        "train_files = os.listdir(train_dir)\n",
        "test_files = os.listdir(test_dir)\n",
        "\n",
        "# Use labels.txt to store labels in an array/dict# (NOTE: The line number corresponds to the actual label)\n",
        "classes = [line.strip() for line in open(label_dir)]\n",
        "\n",
        "# Use sci-kit learn's train_test_split method to generate a validation dataset from the training dataset\n",
        "train_files , val_files = train_test_split(train_files ,test_size=0.2, random_state=42)\n",
        "# to_categorical(test_files, num_classes)\n",
        "# len(test_files)"
      ],
      "execution_count": 0,
      "outputs": [
        {
          "output_type": "stream",
          "text": [
            "/content/cifar/\n"
          ],
          "name": "stdout"
        }
      ]
    },
    {
      "cell_type": "markdown",
      "metadata": {
        "colab_type": "text",
        "id": "_7svXedDBXuv"
      },
      "source": [
        "### Task 1.2 Preprocessing\n",
        "Preprocessing of data such as normalization, mean shift, make the learning task simple for network and could accelerate the training process. "
      ]
    },
    {
      "cell_type": "markdown",
      "metadata": {
        "colab_type": "text",
        "id": "uRZZEaDyBXuy"
      },
      "source": [
        "###### Task 1.2.1 \n",
        "In images, pixel values range from 0 to 255. To shift the values between (0,1) range, divide input image by 255."
      ]
    },
    {
      "cell_type": "code",
      "metadata": {
        "id": "frwv9Fm-rVgG",
        "colab_type": "code",
        "colab": {}
      },
      "source": [
        "def preprocessing_norm(images):\n",
        "    return images/255"
      ],
      "execution_count": 0,
      "outputs": []
    },
    {
      "cell_type": "markdown",
      "metadata": {
        "colab_type": "text",
        "id": "XnSsSSNnBXu4"
      },
      "source": [
        "###### Task 1.2.2\n",
        "Compute the channel-wise mean and standard deviation (std). Subtract channel-wise mean and divide by channel-wise std. This will shift the mean to zero and variation to 1 for each channel. "
      ]
    },
    {
      "cell_type": "code",
      "metadata": {
        "id": "So1RZm3srVgK",
        "colab_type": "code",
        "colab": {}
      },
      "source": [
        "def preprocessing_meanShift(images):\n",
        "    mean = np.mean(images ,axis=(0,1))\n",
        "    std = np.std(images ,axis=(0,1))\n",
        "    return (images-mean)/std"
      ],
      "execution_count": 0,
      "outputs": []
    },
    {
      "cell_type": "code",
      "metadata": {
        "id": "-r3D3XXCrVgO",
        "colab_type": "code",
        "outputId": "1fcea060-50f4-4802-f069-38c6a34c7321",
        "colab": {
          "base_uri": "https://localhost:8080/",
          "height": 34
        }
      },
      "source": [
        "dict_={}\n",
        "for i in range(10):\n",
        "    dict_ [classes[i]]=class_labels[i]\n",
        "print(dict_)"
      ],
      "execution_count": 0,
      "outputs": [
        {
          "output_type": "stream",
          "text": [
            "{'airplane': 0, 'automobile': 1, 'bird': 2, 'cat': 3, 'deer': 4, 'dog': 5, 'frog': 6, 'horse': 7, 'ship': 8, 'truck': 9}\n"
          ],
          "name": "stdout"
        }
      ]
    },
    {
      "cell_type": "markdown",
      "metadata": {
        "colab_type": "text",
        "id": "FYHHJqODBXvI"
      },
      "source": [
        "### Task 1.3  Batch Generator\n",
        "Previously, when training our models, we were loading the complete data in memory to fit our model. However, in practice we're working with very large datasets which cannot be loaded all at once in memory. As a solution, we use \"Data Generators\" which are essentially python generators that load batches of data from disk into memory and pass into our models. In order to achieve this, we only store filepaths that point to training/test samples in our dataset in memory. A data generator yields a tuple of (Xs,Ys) whenever the generator is used via the next() function. Implementation of a data generator is open ended, you can add whatever arguments you find necessary in addition to the ones provided."
      ]
    },
    {
      "cell_type": "code",
      "metadata": {
        "id": "wKYmCl-frVgS",
        "colab_type": "code",
        "colab": {}
      },
      "source": [
        "import re\n",
        "regex= lambda a :re.sub(r'[0-9]|_|.png','',a)\n",
        "\n",
        "def get_sample(sample,preprocessing ,dir_):\n",
        "    im = cv2.imread(os.path.join(dir_,sample))\n",
        "    if preprocessing=='norm' :\n",
        "      im=preprocessing_norm(im)\n",
        "    elif preprocessing=='mean_shift':\n",
        "      im=preprocessing_meanShift(im)\n",
        "    label=regex(sample)\n",
        "    label= dict_[label]\n",
        "    return im, label\n"
      ],
      "execution_count": 0,
      "outputs": []
    },
    {
      "cell_type": "code",
      "metadata": {
        "id": "4mepa_5zrVgX",
        "colab_type": "code",
        "colab": {}
      },
      "source": [
        "def data_generator(list_d,dir_, batch_size = 32, preprocessing = None):\n",
        "    \n",
        "    loop = int(len(list_d)/batch_size)\n",
        "#     print(loop)\n",
        "    count = 0\n",
        "    count2=batch_size\n",
        "\n",
        "    while True:\n",
        "        count = 0\n",
        "        count2=batch_size\n",
        "\n",
        "        for i in range(loop):\n",
        "            pics= list_d[count:count2]\n",
        "            XS = [get_sample(x,preprocessing ,dir_) for x in pics]\n",
        "            YS = np.array([label for img, label in XS])\n",
        "            XS = [np.stack(img) for img, label in XS]        \n",
        "            xs = np.asarray(XS)\n",
        "            ys = np.reshape(YS,(len(YS),1))\n",
        "            ys = to_categorical(ys,num_classes)\n",
        "            count+=batch_size\n",
        "            count2+=batch_size\n",
        "            yield (xs,ys)"
      ],
      "execution_count": 0,
      "outputs": []
    },
    {
      "cell_type": "markdown",
      "metadata": {
        "colab_type": "text",
        "id": "CkAnkoEgBXvX"
      },
      "source": [
        "**IMPORTANT**: For each model you create, you need to conduct analysis in a markdown cell below the code cell containing the model's training. Your analysis should include plots, comments on its accuracy/loss, etc. Try to predict images and see what images your model is correctly classifying, see if your model is overfitting or not. For each layer you add, specify its function and then comment on its results."
      ]
    },
    {
      "cell_type": "code",
      "metadata": {
        "id": "YKFGuEnorVgf",
        "colab_type": "code",
        "outputId": "e6e7102c-67ca-4d08-cb2e-5401175dead2",
        "colab": {
          "base_uri": "https://localhost:8080/",
          "height": 357
        }
      },
      "source": [
        "input_img = Input(shape=(input_shape_cifar), name='input_img')\n",
        "l = Conv2D(64, kernel_size=(2,2), activation='relu')(input_img) #learning 64 filters of size 2 by 2 \n",
        "l = Conv2D(32, (3, 3),activation='relu')(l) # 32 filter of 3 by 3 shape\n",
        "l = Flatten()(l) # making a single vector of layer\n",
        "layer4 = Dense(128, activation='relu')(l) #fully connected dense layer\n",
        "layer4 = Dense(64, activation='relu')(l) # fully connected dense layer\n",
        "output = Dense(num_classes, activation='softmax')(layer4) # out put layer of size 10(classes)\n",
        "model_initial = Model(inputs= input_img , outputs=output )\n",
        "model_initial.summary()\n"
      ],
      "execution_count": 0,
      "outputs": [
        {
          "output_type": "stream",
          "text": [
            "Model: \"model_6\"\n",
            "_________________________________________________________________\n",
            "Layer (type)                 Output Shape              Param #   \n",
            "=================================================================\n",
            "input_img (InputLayer)       (None, 32, 32, 3)         0         \n",
            "_________________________________________________________________\n",
            "conv2d_11 (Conv2D)           (None, 31, 31, 64)        832       \n",
            "_________________________________________________________________\n",
            "conv2d_12 (Conv2D)           (None, 29, 29, 32)        18464     \n",
            "_________________________________________________________________\n",
            "flatten_6 (Flatten)          (None, 26912)             0         \n",
            "_________________________________________________________________\n",
            "dense_16 (Dense)             (None, 64)                1722432   \n",
            "_________________________________________________________________\n",
            "dense_17 (Dense)             (None, 10)                650       \n",
            "=================================================================\n",
            "Total params: 1,742,378\n",
            "Trainable params: 1,742,378\n",
            "Non-trainable params: 0\n",
            "_________________________________________________________________\n"
          ],
          "name": "stdout"
        }
      ]
    },
    {
      "cell_type": "markdown",
      "metadata": {
        "colab_type": "text",
        "id": "FAvbB0vfBXvj"
      },
      "source": [
        "#### Compile model and plot"
      ]
    },
    {
      "cell_type": "code",
      "metadata": {
        "id": "bwb5YTFvrVgj",
        "colab_type": "code",
        "colab": {}
      },
      "source": [
        "model_name = 'base_model'\n",
        "if not os.path.exists('./'+model_name):\n",
        "    os.mkdir(model_name)"
      ],
      "execution_count": 0,
      "outputs": []
    },
    {
      "cell_type": "code",
      "metadata": {
        "id": "BN0viDzarVgm",
        "colab_type": "code",
        "colab": {}
      },
      "source": [
        " # You may tweak the learning rate\n",
        "adam = Adam(lr=0.001)\n",
        "# Use the appropriate loss function and compile the model\n",
        "model_initial.compile(loss='categorical_crossentropy',  optimizer=adam,  metrics=['accuracy'])"
      ],
      "execution_count": 0,
      "outputs": []
    },
    {
      "cell_type": "code",
      "metadata": {
        "id": "D4rG5n7XrVgo",
        "colab_type": "code",
        "outputId": "9979321f-d3b5-4b7d-bc78-4a75ed9517be",
        "colab": {
          "base_uri": "https://localhost:8080/",
          "height": 564
        }
      },
      "source": [
        "plot_model(model_initial, model_name+'/'+model_name+'.png')"
      ],
      "execution_count": 0,
      "outputs": [
        {
          "output_type": "execute_result",
          "data": {
            "image/png": "[encoded data removed]",
            "text/plain": [
              "<IPython.core.display.Image object>"
            ]
          },
          "metadata": {
            "tags": []
          },
          "execution_count": 85
        }
      ]
    },
    {
      "cell_type": "markdown",
      "metadata": {
        "colab_type": "text",
        "id": "jp7napx8BXv6"
      },
      "source": [
        "#### Task 1.5 Training model\n",
        "In order to train the model, instead of \"model.fit\" function, we will use the \"model.fit_generator\" function for training. For details check out [keras documentation](https://keras.io/models/sequential/)"
      ]
    },
    {
      "cell_type": "code",
      "metadata": {
        "id": "E4VQqiL2rVgr",
        "colab_type": "code",
        "colab": {}
      },
      "source": [
        "class LRTensorBoard(TensorBoard):\n",
        "    def __init__(self, *args, **kwargs):\n",
        "        super(LRTensorBoard, self).__init__(*args, **kwargs)\n",
        "\n",
        "    def on_epoch_end(self, epoch, logs=None):\n",
        "        logs.update({'lr': K.eval(self.model.optimizer.lr)})\n",
        "        super(LRTensorBoard, self).on_epoch_end(epoch, logs)"
      ],
      "execution_count": 0,
      "outputs": []
    },
    {
      "cell_type": "code",
      "metadata": {
        "id": "HejaBV5irVgu",
        "colab_type": "code",
        "colab": {}
      },
      "source": [
        "# Add the following callbacks to your Model: ModelCheckpoin, CSVLogger, ReduceLROnPlateau. \n",
        "# callback for Tensorboard has already been provided to you.\n",
        "\n",
        "checkpoint = ModelCheckpoint(model_name+'/' + model_name+'.h5' ,verbose =1 , save_best_only= True  \n",
        "                             , monitor='val_loss' , mode= 'auto')\n",
        "\n",
        "\n",
        "\n",
        "csvlogger = CSVLogger(model_name+'/logs.h5', separator = ',', append=True)\n",
        "\n",
        "reducelr = ReduceLROnPlateau(monitor='val_loss', factor=0.2, patience=3, min_lr=0.000001, min_delta=0.03)\n",
        "\n",
        "tensorboard = LRTensorBoard(log_dir='./'+model_name, histogram_freq=0, write_graph=True, write_grads=1, \n",
        "                            batch_size=batch_size, write_images=True)\n",
        "\n",
        "callbacks =[checkpoint , csvlogger ,reducelr ,tensorboard ,TensorBoardColabCallback(tbc)]"
      ],
      "execution_count": 0,
      "outputs": []
    },
    {
      "cell_type": "markdown",
      "metadata": {
        "colab_type": "text",
        "id": "y4xhLSBqBXwI"
      },
      "source": [
        "#### Task 1.5.1 \n",
        "Train model without using any pre-processing scheme"
      ]
    },
    {
      "cell_type": "code",
      "metadata": {
        "id": "90ZulxdzrVgx",
        "colab_type": "code",
        "colab": {}
      },
      "source": [
        "# Create three generators: For training your model, |for validation, for testing.\n",
        "train_gen = data_generator(train_files,train_dir ,batch_size , preprocessing='None')\n",
        "Valid_gen = data_generator(val_files,train_dir , batch_size  , preprocessing='None')\n",
        "test_gen = data_generator(test_files ,batch_size   , preprocessing='None')"
      ],
      "execution_count": 0,
      "outputs": []
    },
    {
      "cell_type": "code",
      "metadata": {
        "id": "yQVDMX50rVg1",
        "colab_type": "code",
        "outputId": "5d608ec4-b382-437c-b2c2-5bf58dd6f1b2",
        "colab": {
          "base_uri": "https://localhost:8080/",
          "height": 561
        }
      },
      "source": [
        "# Start training your model here\n",
        "hist_initial = []\n",
        "hist_initial = model_initial.fit_generator(train_gen,\n",
        "                            epochs=epochs,\n",
        "                            validation_data=Valid_gen,\n",
        "                            validation_steps=1,\n",
        "                            steps_per_epoch=len(train_files)//batch_size,\n",
        "                            callbacks=callbacks,\n",
        "                            verbose=1)\n",
        "all_histories.append(hist_initial)"
      ],
      "execution_count": 0,
      "outputs": [
        {
          "output_type": "stream",
          "text": [
            "Epoch 1/8\n",
            "625/625 [==============================] - 8s 13ms/step - loss: 14.5172 - acc: 0.0993 - val_loss: 14.6070 - val_acc: 0.0938\n",
            "\n",
            "Epoch 00001: val_loss improved from inf to 14.60702, saving model to model_batch_normalized/model_batch_normalized.h5\n",
            "Epoch 2/8\n",
            "625/625 [==============================] - 8s 13ms/step - loss: 14.5172 - acc: 0.0993 - val_loss: 14.6070 - val_acc: 0.0938\n",
            "\n",
            "Epoch 00002: val_loss improved from 14.60702 to 14.60702, saving model to model_batch_normalized/model_batch_normalized.h5\n",
            "Epoch 3/8\n",
            "625/625 [==============================] - 8s 13ms/step - loss: 14.5172 - acc: 0.0993 - val_loss: 13.8515 - val_acc: 0.1406\n",
            "\n",
            "Epoch 00003: val_loss improved from 14.60702 to 13.85149, saving model to model_batch_normalized/model_batch_normalized.h5\n",
            "Epoch 4/8\n",
            "625/625 [==============================] - 8s 13ms/step - loss: 14.5172 - acc: 0.0993 - val_loss: 15.1107 - val_acc: 0.0625\n",
            "\n",
            "Epoch 00004: val_loss did not improve from 13.85149\n",
            "Epoch 5/8\n",
            "625/625 [==============================] - 8s 13ms/step - loss: 14.5172 - acc: 0.0993 - val_loss: 14.1033 - val_acc: 0.1250\n",
            "\n",
            "Epoch 00005: val_loss did not improve from 13.85149\n",
            "Epoch 6/8\n",
            "625/625 [==============================] - 8s 13ms/step - loss: 14.5172 - acc: 0.0993 - val_loss: 15.3626 - val_acc: 0.0469\n",
            "\n",
            "Epoch 00006: val_loss did not improve from 13.85149\n",
            "Epoch 7/8\n",
            "625/625 [==============================] - 8s 13ms/step - loss: 14.5172 - acc: 0.0993 - val_loss: 14.8589 - val_acc: 0.0781\n",
            "\n",
            "Epoch 00007: val_loss did not improve from 13.85149\n",
            "Epoch 8/8\n",
            "625/625 [==============================] - 8s 13ms/step - loss: 14.5172 - acc: 0.0993 - val_loss: 13.0960 - val_acc: 0.1875\n",
            "\n",
            "Epoch 00008: val_loss improved from 13.85149 to 13.09595, saving model to model_batch_normalized/model_batch_normalized.h5\n"
          ],
          "name": "stdout"
        }
      ]
    },
    {
      "cell_type": "markdown",
      "metadata": {
        "colab_type": "text",
        "id": "SJ0BtYvmBXwT"
      },
      "source": [
        "#### Task 1.5.2 \n",
        "Train model by using data preprocessing i.e normalization or mean shift. "
      ]
    },
    {
      "cell_type": "code",
      "metadata": {
        "id": "Q_jDnUsyrVg6",
        "colab_type": "code",
        "outputId": "02a224d9-429e-4039-ffcf-14d7ca52dffa",
        "colab": {
          "base_uri": "https://localhost:8080/",
          "height": 357
        }
      },
      "source": [
        "input_img = Input(shape=(input_shape_cifar), name='input_img')\n",
        "\n",
        "l = Conv2D(64, kernel_size=(2,2), activation='tanh')(input_img)\n",
        "l = Conv2D(32, (4, 4) ,activation='tanh')(l)\n",
        "l = Flatten()(l)\n",
        "\n",
        "layer4 = Dense(120, activation='relu')(l)\n",
        "layer5 = Dense(60, activation='relu')(l)\n",
        "\n",
        "output = Dense(num_classes, activation='softmax')(layer5)\n",
        "model_preprocessed = Model(inputs= input_img , outputs=output )\n",
        "model_preprocessed.summary()"
      ],
      "execution_count": 0,
      "outputs": [
        {
          "output_type": "stream",
          "text": [
            "Model: \"model_7\"\n",
            "_________________________________________________________________\n",
            "Layer (type)                 Output Shape              Param #   \n",
            "=================================================================\n",
            "input_img (InputLayer)       (None, 32, 32, 3)         0         \n",
            "_________________________________________________________________\n",
            "conv2d_13 (Conv2D)           (None, 31, 31, 64)        832       \n",
            "_________________________________________________________________\n",
            "conv2d_14 (Conv2D)           (None, 28, 28, 32)        32800     \n",
            "_________________________________________________________________\n",
            "flatten_7 (Flatten)          (None, 25088)             0         \n",
            "_________________________________________________________________\n",
            "dense_19 (Dense)             (None, 60)                1505340   \n",
            "_________________________________________________________________\n",
            "dense_20 (Dense)             (None, 10)                610       \n",
            "=================================================================\n",
            "Total params: 1,539,582\n",
            "Trainable params: 1,539,582\n",
            "Non-trainable params: 0\n",
            "_________________________________________________________________\n"
          ],
          "name": "stdout"
        }
      ]
    },
    {
      "cell_type": "code",
      "metadata": {
        "id": "4snv64ZbrVg8",
        "colab_type": "code",
        "colab": {}
      },
      "source": [
        "model_name = 'model_preprocessed_input'\n",
        "\n",
        "if not os.path.exists('./'+model_name):\n",
        "    os.mkdir(model_name)"
      ],
      "execution_count": 0,
      "outputs": []
    },
    {
      "cell_type": "code",
      "metadata": {
        "id": "sTkGDTUlrVg-",
        "colab_type": "code",
        "colab": {}
      },
      "source": [
        "# You may tweak this Learning Rate\n",
        "adam = Adam(lr=0.0001)\n",
        "\n",
        "# Compile your model using an appropriate loss\n",
        "model_preprocessed.compile(loss='categorical_crossentropy', \n",
        "              optimizer=adam, \n",
        "              metrics=['accuracy'])"
      ],
      "execution_count": 0,
      "outputs": []
    },
    {
      "cell_type": "code",
      "metadata": {
        "id": "SYDXjf8nrVhA",
        "colab_type": "code",
        "outputId": "790987eb-8fa4-44b9-eae1-a2daf64f615f",
        "colab": {
          "base_uri": "https://localhost:8080/",
          "height": 564
        }
      },
      "source": [
        "plot_model(model_preprocessed, model_name+'/'+model_name+'.png')"
      ],
      "execution_count": 0,
      "outputs": [
        {
          "output_type": "execute_result",
          "data": {
            "image/png": "[encoded data removed]",
            "text/plain": [
              "<IPython.core.display.Image object>"
            ]
          },
          "metadata": {
            "tags": []
          },
          "execution_count": 94
        }
      ]
    },
    {
      "cell_type": "code",
      "metadata": {
        "id": "_8Mt3Mv_rVhD",
        "colab_type": "code",
        "outputId": "828a8bf1-fac0-4505-9cb4-4d90c49f15ae",
        "colab": {
          "base_uri": "https://localhost:8080/",
          "height": 357
        }
      },
      "source": [
        "model_preprocessed.summary()"
      ],
      "execution_count": 0,
      "outputs": [
        {
          "output_type": "stream",
          "text": [
            "Model: \"model_7\"\n",
            "_________________________________________________________________\n",
            "Layer (type)                 Output Shape              Param #   \n",
            "=================================================================\n",
            "input_img (InputLayer)       (None, 32, 32, 3)         0         \n",
            "_________________________________________________________________\n",
            "conv2d_13 (Conv2D)           (None, 31, 31, 64)        832       \n",
            "_________________________________________________________________\n",
            "conv2d_14 (Conv2D)           (None, 28, 28, 32)        32800     \n",
            "_________________________________________________________________\n",
            "flatten_7 (Flatten)          (None, 25088)             0         \n",
            "_________________________________________________________________\n",
            "dense_19 (Dense)             (None, 60)                1505340   \n",
            "_________________________________________________________________\n",
            "dense_20 (Dense)             (None, 10)                610       \n",
            "=================================================================\n",
            "Total params: 1,539,582\n",
            "Trainable params: 1,539,582\n",
            "Non-trainable params: 0\n",
            "_________________________________________________________________\n"
          ],
          "name": "stdout"
        }
      ]
    },
    {
      "cell_type": "code",
      "metadata": {
        "id": "kfc7xLLDrVhH",
        "colab_type": "code",
        "colab": {}
      },
      "source": [
        "# Add the following callbacks: ModelCheckpoint, CSVLogger. The callback for tensorboard has been provided to you.\n",
        "checkpoint = ModelCheckpoint(model_name+'/' + model_name+'.h5' ,verbose =1 , \n",
        "                             save_best_only= True  , monitor='val_loss' , mode= 'auto')\n",
        "\n",
        "csvlogger = CSVLogger(model_name+'/logs.h5', separator = ',', append=True)\n",
        "\n",
        "tensorboard = LRTensorBoard(log_dir='./'+model_name, histogram_freq=0, write_graph=True, write_grads=1, \n",
        "                            batch_size=batch_size, write_images=True)\n",
        "\n",
        "callbacks = [csvlogger,checkpoint,tensorboard]"
      ],
      "execution_count": 0,
      "outputs": []
    },
    {
      "cell_type": "code",
      "metadata": {
        "id": "cqcgEcIzrVhJ",
        "colab_type": "code",
        "colab": {}
      },
      "source": [
        "# Create three generators again\n",
        "norm_train_gen = data_generator(train_files, train_dir,batch_size , preprocessing='norm')\n",
        "norm_Valid_gen = data_generator(val_files ,train_dir, batch_size  , preprocessing='norm')\n",
        "norm_test_gen = data_generator(test_files ,batch_size   , preprocessing='mean_shift')"
      ],
      "execution_count": 0,
      "outputs": []
    },
    {
      "cell_type": "code",
      "metadata": {
        "id": "KNw75oEHrVhL",
        "colab_type": "code",
        "colab": {}
      },
      "source": [
        ""
      ],
      "execution_count": 0,
      "outputs": []
    },
    {
      "cell_type": "code",
      "metadata": {
        "id": "cb2XL7bWrVhN",
        "colab_type": "code",
        "outputId": "ed11a751-af37-4b14-ad25-af088a24d1ab",
        "colab": {
          "base_uri": "https://localhost:8080/",
          "height": 561
        }
      },
      "source": [
        "hist_preprocessed =[] \n",
        "hist_preprocessed = model_preprocessed.fit_generator(norm_train_gen,\n",
        "                            epochs=epochs,\n",
        "                            validation_data=norm_Valid_gen,\n",
        "                            validation_steps=1,\n",
        "                            steps_per_epoch=len(train_files)//batch_size,\n",
        "                            callbacks=callbacks,\n",
        "                            verbose=1)\n",
        "all_histories.append(hist_preprocessed)\n"
      ],
      "execution_count": 0,
      "outputs": [
        {
          "output_type": "stream",
          "text": [
            "Epoch 1/8\n",
            "625/625 [==============================] - 9s 15ms/step - loss: 1.2541 - acc: 0.5689 - val_loss: 1.6751 - val_acc: 0.4531\n",
            "\n",
            "Epoch 00001: val_loss did not improve from 1.31166\n",
            "Epoch 2/8\n",
            "625/625 [==============================] - 9s 15ms/step - loss: 1.2166 - acc: 0.5841 - val_loss: 1.3816 - val_acc: 0.4688\n",
            "\n",
            "Epoch 00002: val_loss did not improve from 1.31166\n",
            "Epoch 3/8\n",
            "625/625 [==============================] - 9s 15ms/step - loss: 1.1819 - acc: 0.5949 - val_loss: 1.7678 - val_acc: 0.3750\n",
            "\n",
            "Epoch 00003: val_loss did not improve from 1.31166\n",
            "Epoch 4/8\n",
            "625/625 [==============================] - 9s 15ms/step - loss: 1.1478 - acc: 0.6070 - val_loss: 1.5343 - val_acc: 0.5000\n",
            "\n",
            "Epoch 00004: val_loss did not improve from 1.31166\n",
            "Epoch 5/8\n",
            "625/625 [==============================] - 9s 15ms/step - loss: 1.1144 - acc: 0.6198 - val_loss: 1.2436 - val_acc: 0.5312\n",
            "\n",
            "Epoch 00005: val_loss improved from 1.31166 to 1.24359, saving model to model_batch_normalized/model_batch_normalized.h5\n",
            "Epoch 6/8\n",
            "625/625 [==============================] - 9s 15ms/step - loss: 1.0827 - acc: 0.6307 - val_loss: 1.5717 - val_acc: 0.4375\n",
            "\n",
            "Epoch 00006: val_loss did not improve from 1.24359\n",
            "Epoch 7/8\n",
            "625/625 [==============================] - 9s 15ms/step - loss: 1.0528 - acc: 0.6409 - val_loss: 1.5731 - val_acc: 0.5312\n",
            "\n",
            "Epoch 00007: val_loss did not improve from 1.24359\n",
            "Epoch 8/8\n",
            "625/625 [==============================] - 9s 15ms/step - loss: 1.0209 - acc: 0.6527 - val_loss: 1.5135 - val_acc: 0.5469\n",
            "\n",
            "Epoch 00008: val_loss did not improve from 1.24359\n"
          ],
          "name": "stdout"
        }
      ]
    },
    {
      "cell_type": "markdown",
      "metadata": {
        "colab_type": "text",
        "id": "id9YQigBBXw_"
      },
      "source": [
        "### Task 2.1 Pooling\n",
        "Now, you need to modify the model by adding pooling layer(s). Pooling could be average pooling or max pooling. You can use the size and stride for pooling of your choice. \n",
        "<br> \n",
        "Modify the network by introducing pooling layer and train the model using the __fit_generator__ function. "
      ]
    },
    {
      "cell_type": "code",
      "metadata": {
        "id": "X0oMcvsSrVhT",
        "colab_type": "code",
        "outputId": "e13a9175-6c1f-48ed-de81-f7345ba89eca",
        "colab": {
          "base_uri": "https://localhost:8080/",
          "height": 391
        }
      },
      "source": [
        "model_name = 'model_pooling'\n",
        "\n",
        "input_img = Input(shape=(input_shape_cifar), name='input_img')\n",
        "\n",
        "l = Conv2D(64, kernel_size=(2,2), activation='tanh')(input_img) \n",
        "l = MaxPooling2D()(l)\n",
        "l = Conv2D(32, (4, 4) ,activation='tanh')(l)\n",
        "l = Flatten()(l)\n",
        "layer4 = Dense(120, activation='relu')(l)\n",
        "layer5 = Dense(60, activation='relu')(l)\n",
        "\n",
        "output = Dense(num_classes, activation='softmax')(layer5)\n",
        "model_pooled = Model(inputs= input_img , outputs=output )\n",
        "model_pooled.summary()\n",
        "\n",
        "if not os.path.exists('./'+model_name):\n",
        "    os.mkdir(model_name)"
      ],
      "execution_count": 0,
      "outputs": [
        {
          "output_type": "stream",
          "text": [
            "Model: \"model_8\"\n",
            "_________________________________________________________________\n",
            "Layer (type)                 Output Shape              Param #   \n",
            "=================================================================\n",
            "input_img (InputLayer)       (None, 32, 32, 3)         0         \n",
            "_________________________________________________________________\n",
            "conv2d_15 (Conv2D)           (None, 31, 31, 64)        832       \n",
            "_________________________________________________________________\n",
            "max_pooling2d_2 (MaxPooling2 (None, 15, 15, 64)        0         \n",
            "_________________________________________________________________\n",
            "conv2d_16 (Conv2D)           (None, 12, 12, 32)        32800     \n",
            "_________________________________________________________________\n",
            "flatten_8 (Flatten)          (None, 4608)              0         \n",
            "_________________________________________________________________\n",
            "dense_22 (Dense)             (None, 60)                276540    \n",
            "_________________________________________________________________\n",
            "dense_23 (Dense)             (None, 10)                610       \n",
            "=================================================================\n",
            "Total params: 310,782\n",
            "Trainable params: 310,782\n",
            "Non-trainable params: 0\n",
            "_________________________________________________________________\n"
          ],
          "name": "stdout"
        }
      ]
    },
    {
      "cell_type": "code",
      "metadata": {
        "id": "htSW1jq_rVhW",
        "colab_type": "code",
        "colab": {}
      },
      "source": [
        "adam = Adam(lr=0.001)\n",
        "model_pooled.compile(loss='categorical_crossentropy', \n",
        "              optimizer=adam, \n",
        "              metrics=['accuracy'])"
      ],
      "execution_count": 0,
      "outputs": []
    },
    {
      "cell_type": "code",
      "metadata": {
        "id": "hpI8zDcgrVhZ",
        "colab_type": "code",
        "outputId": "9bf54482-56a9-4673-c133-1596f9a14242",
        "colab": {
          "base_uri": "https://localhost:8080/",
          "height": 391
        }
      },
      "source": [
        "plot_model(model_pooled, model_name+'/'+model_name+'.png')\n",
        "model_pooled.summary()"
      ],
      "execution_count": 0,
      "outputs": [
        {
          "output_type": "stream",
          "text": [
            "Model: \"model_8\"\n",
            "_________________________________________________________________\n",
            "Layer (type)                 Output Shape              Param #   \n",
            "=================================================================\n",
            "input_img (InputLayer)       (None, 32, 32, 3)         0         \n",
            "_________________________________________________________________\n",
            "conv2d_15 (Conv2D)           (None, 31, 31, 64)        832       \n",
            "_________________________________________________________________\n",
            "max_pooling2d_2 (MaxPooling2 (None, 15, 15, 64)        0         \n",
            "_________________________________________________________________\n",
            "conv2d_16 (Conv2D)           (None, 12, 12, 32)        32800     \n",
            "_________________________________________________________________\n",
            "flatten_8 (Flatten)          (None, 4608)              0         \n",
            "_________________________________________________________________\n",
            "dense_22 (Dense)             (None, 60)                276540    \n",
            "_________________________________________________________________\n",
            "dense_23 (Dense)             (None, 10)                610       \n",
            "=================================================================\n",
            "Total params: 310,782\n",
            "Trainable params: 310,782\n",
            "Non-trainable params: 0\n",
            "_________________________________________________________________\n"
          ],
          "name": "stdout"
        }
      ]
    },
    {
      "cell_type": "code",
      "metadata": {
        "id": "7oT1yAU3rVhb",
        "colab_type": "code",
        "colab": {}
      },
      "source": [
        "# Add the following callbacks: ModelCheckpoint, CSVLogger\n",
        "checkpoint = ModelCheckpoint(model_name+'/' + model_name+'.h5' ,verbose =1 , \n",
        "                             save_best_only= True  , monitor='val_loss' , mode= 'auto')\n",
        "csvlogger = CSVLogger(model_name+'/logs.h5', separator = ',', append=True)\n",
        "\n",
        "tensorboard = LRTensorBoard(log_dir='./'+model_name, histogram_freq=0, write_graph=True, write_grads=1, \n",
        "                            batch_size=batch_size, write_images=True)\n",
        "\n",
        "callbacks = [checkpoint,csvlogger,tensorboard]"
      ],
      "execution_count": 0,
      "outputs": []
    },
    {
      "cell_type": "code",
      "metadata": {
        "id": "ONx_7r8yrVhe",
        "colab_type": "code",
        "colab": {}
      },
      "source": [
        "# Create three generators again\n",
        "pool_train_gen = data_generator(train_files, train_dir,batch_size , preprocessing='norm')\n",
        "pool_Valid_gen = data_generator(val_files ,train_dir, batch_size  , preprocessing='norm')\n",
        "norm_test_gen = data_generator(test_files ,batch_size   , preprocessing='norm')"
      ],
      "execution_count": 0,
      "outputs": []
    },
    {
      "cell_type": "code",
      "metadata": {
        "id": "1BsuRa1drVhh",
        "colab_type": "code",
        "outputId": "2546aaab-adde-4935-b3ff-ae397576f6c4",
        "colab": {
          "base_uri": "https://localhost:8080/",
          "height": 561
        }
      },
      "source": [
        "hist_pooled =[]\n",
        "hist_pooled = model_pooled.fit_generator(pool_train_gen,\n",
        "                            epochs=epochs,\n",
        "                            validation_data=pool_Valid_gen,\n",
        "                            validation_steps=1,\n",
        "                            steps_per_epoch=len(train_files)//batch_size,\n",
        "                            callbacks=callbacks,\n",
        "                            verbose=1)\n",
        "all_histories.append(hist_pooled)"
      ],
      "execution_count": 0,
      "outputs": [
        {
          "output_type": "stream",
          "text": [
            "Epoch 1/8\n",
            "625/625 [==============================] - 9s 14ms/step - loss: 0.7432 - acc: 0.7424 - val_loss: 1.1645 - val_acc: 0.6719\n",
            "\n",
            "Epoch 00001: val_loss improved from 1.24359 to 1.16450, saving model to model_batch_normalized/model_batch_normalized.h5\n",
            "Epoch 2/8\n",
            "625/625 [==============================] - 9s 14ms/step - loss: 0.7063 - acc: 0.7550 - val_loss: 1.0466 - val_acc: 0.6875\n",
            "\n",
            "Epoch 00002: val_loss improved from 1.16450 to 1.04665, saving model to model_batch_normalized/model_batch_normalized.h5\n",
            "Epoch 3/8\n",
            "625/625 [==============================] - 9s 14ms/step - loss: 0.6649 - acc: 0.7688 - val_loss: 1.1271 - val_acc: 0.6875\n",
            "\n",
            "Epoch 00003: val_loss did not improve from 1.04665\n",
            "Epoch 4/8\n",
            "625/625 [==============================] - 9s 14ms/step - loss: 0.6245 - acc: 0.7816 - val_loss: 1.6204 - val_acc: 0.5625\n",
            "\n",
            "Epoch 00004: val_loss did not improve from 1.04665\n",
            "Epoch 5/8\n",
            "625/625 [==============================] - 9s 15ms/step - loss: 0.5888 - acc: 0.7942 - val_loss: 1.1579 - val_acc: 0.6719\n",
            "\n",
            "Epoch 00005: val_loss did not improve from 1.04665\n",
            "Epoch 6/8\n",
            "625/625 [==============================] - 9s 14ms/step - loss: 0.5566 - acc: 0.8064 - val_loss: 1.6680 - val_acc: 0.5156\n",
            "\n",
            "Epoch 00006: val_loss did not improve from 1.04665\n",
            "Epoch 7/8\n",
            "625/625 [==============================] - 9s 14ms/step - loss: 0.5188 - acc: 0.8209 - val_loss: 1.6949 - val_acc: 0.5625\n",
            "\n",
            "Epoch 00007: val_loss did not improve from 1.04665\n",
            "Epoch 8/8\n",
            "625/625 [==============================] - 9s 14ms/step - loss: 0.4808 - acc: 0.8310 - val_loss: 1.8169 - val_acc: 0.6094\n",
            "\n",
            "Epoch 00008: val_loss did not improve from 1.04665\n"
          ],
          "name": "stdout"
        }
      ]
    },
    {
      "cell_type": "markdown",
      "metadata": {
        "colab_type": "text",
        "id": "hAj6xeb5BXxe"
      },
      "source": [
        "### Task 3.1 Dropout\n",
        "Modify the network by introducing dropout layer(s) and train the model using the __fit_generator__ function. "
      ]
    },
    {
      "cell_type": "code",
      "metadata": {
        "id": "wtRo4Ug8rVhn",
        "colab_type": "code",
        "outputId": "6aab437c-073c-4cb2-c9bf-4fd37a2258b1",
        "colab": {
          "base_uri": "https://localhost:8080/",
          "height": 391
        }
      },
      "source": [
        "model_name = 'model_dropout'\n",
        "\n",
        "input_img = Input(shape=(input_shape_cifar), name='input_img')\n",
        "l = Conv2D(64, kernel_size=(2,2), activation='tanh')(input_img)\n",
        "l = Dropout(0.2)(l)\n",
        "l = Conv2D(32, (3, 3) ,activation='tanh')(l)\n",
        "l = Flatten()(l)\n",
        "layer4 = Dense(60, activation='relu')(l)\n",
        "output = Dense(num_classes, activation='softmax')(layer4)\n",
        "\n",
        "model_dropout = Model(inputs= input_img , outputs=output)\n",
        "model_dropout.summary()\n",
        "\n",
        "if not os.path.exists('./'+model_name):\n",
        "    os.mkdir(model_name)"
      ],
      "execution_count": 0,
      "outputs": [
        {
          "output_type": "stream",
          "text": [
            "Model: \"model_9\"\n",
            "_________________________________________________________________\n",
            "Layer (type)                 Output Shape              Param #   \n",
            "=================================================================\n",
            "input_img (InputLayer)       (None, 32, 32, 3)         0         \n",
            "_________________________________________________________________\n",
            "conv2d_17 (Conv2D)           (None, 31, 31, 64)        832       \n",
            "_________________________________________________________________\n",
            "dropout_2 (Dropout)          (None, 31, 31, 64)        0         \n",
            "_________________________________________________________________\n",
            "conv2d_18 (Conv2D)           (None, 29, 29, 32)        18464     \n",
            "_________________________________________________________________\n",
            "flatten_9 (Flatten)          (None, 26912)             0         \n",
            "_________________________________________________________________\n",
            "dense_24 (Dense)             (None, 60)                1614780   \n",
            "_________________________________________________________________\n",
            "dense_25 (Dense)             (None, 10)                610       \n",
            "=================================================================\n",
            "Total params: 1,634,686\n",
            "Trainable params: 1,634,686\n",
            "Non-trainable params: 0\n",
            "_________________________________________________________________\n"
          ],
          "name": "stdout"
        }
      ]
    },
    {
      "cell_type": "code",
      "metadata": {
        "id": "3L3FIryfrVhq",
        "colab_type": "code",
        "colab": {}
      },
      "source": [
        "adam = Adam(lr=0.001)\n",
        "model_dropout.compile(loss='categorical_crossentropy', \n",
        "              optimizer=adam, \n",
        "              metrics=['accuracy'])"
      ],
      "execution_count": 0,
      "outputs": []
    },
    {
      "cell_type": "code",
      "metadata": {
        "id": "IzfJef5lrVht",
        "colab_type": "code",
        "outputId": "732f5a62-c5c3-4d82-ae76-11f68e626ebc",
        "colab": {
          "base_uri": "https://localhost:8080/",
          "height": 391
        }
      },
      "source": [
        "plot_model(model_dropout, model_name+'/'+model_name+'.png')\n",
        "model_dropout.summary()"
      ],
      "execution_count": 0,
      "outputs": [
        {
          "output_type": "stream",
          "text": [
            "Model: \"model_9\"\n",
            "_________________________________________________________________\n",
            "Layer (type)                 Output Shape              Param #   \n",
            "=================================================================\n",
            "input_img (InputLayer)       (None, 32, 32, 3)         0         \n",
            "_________________________________________________________________\n",
            "conv2d_17 (Conv2D)           (None, 31, 31, 64)        832       \n",
            "_________________________________________________________________\n",
            "dropout_2 (Dropout)          (None, 31, 31, 64)        0         \n",
            "_________________________________________________________________\n",
            "conv2d_18 (Conv2D)           (None, 29, 29, 32)        18464     \n",
            "_________________________________________________________________\n",
            "flatten_9 (Flatten)          (None, 26912)             0         \n",
            "_________________________________________________________________\n",
            "dense_24 (Dense)             (None, 60)                1614780   \n",
            "_________________________________________________________________\n",
            "dense_25 (Dense)             (None, 10)                610       \n",
            "=================================================================\n",
            "Total params: 1,634,686\n",
            "Trainable params: 1,634,686\n",
            "Non-trainable params: 0\n",
            "_________________________________________________________________\n"
          ],
          "name": "stdout"
        }
      ]
    },
    {
      "cell_type": "code",
      "metadata": {
        "id": "uMKU_J2crVhw",
        "colab_type": "code",
        "colab": {}
      },
      "source": [
        "checkpoint = ModelCheckpoint(model_name+'/' + model_name+'.h5' ,verbose =1 , \n",
        "                             save_best_only= True  , monitor='val_loss' , mode= 'auto')\n",
        "\n",
        "csvlogger = CSVLogger(model_name+'/logs.h5', separator = ',', append=True)\n",
        "\n",
        "tensorboard = LRTensorBoard(log_dir='./'+model_name, histogram_freq=0, write_graph=True, write_grads=1, \n",
        "                            batch_size=batch_size, write_images=True)\n",
        "\n",
        "callbacks = [checkpoint ,csvlogger,tensorboard]"
      ],
      "execution_count": 0,
      "outputs": []
    },
    {
      "cell_type": "code",
      "metadata": {
        "id": "dSCb8fwxrVhy",
        "colab_type": "code",
        "colab": {}
      },
      "source": [
        "# Create three Generators\n",
        "drop_train_gen = data_generator(train_files, train_dir,batch_size , preprocessing=None)\n",
        "drop_Valid_gen = data_generator(val_files ,train_dir, batch_size  , preprocessing=None)"
      ],
      "execution_count": 0,
      "outputs": []
    },
    {
      "cell_type": "code",
      "metadata": {
        "id": "WIPwfprErVh2",
        "colab_type": "code",
        "outputId": "ac58bc36-c6b6-4f31-cb0c-3c71e4292944",
        "colab": {
          "base_uri": "https://localhost:8080/",
          "height": 561
        }
      },
      "source": [
        "hist_dropout=[]\n",
        "hist_dropout = model_dropout.fit_generator(drop_train_gen,\n",
        "                            epochs=epochs,\n",
        "                            validation_data=drop_Valid_gen,\n",
        "                            validation_steps=1,\n",
        "                            steps_per_epoch=len(train_files)//batch_size,\n",
        "                            callbacks=callbacks,\n",
        "                            verbose=1)\n",
        "\n",
        "all_histories.append(hist_dropout)"
      ],
      "execution_count": 0,
      "outputs": [
        {
          "output_type": "stream",
          "text": [
            "Epoch 1/8\n",
            "625/625 [==============================] - 9s 14ms/step - loss: 2.3027 - acc: 0.0980 - val_loss: 2.3033 - val_acc: 0.0156\n",
            "\n",
            "Epoch 00001: val_loss did not improve from 1.04665\n",
            "Epoch 2/8\n",
            "625/625 [==============================] - 9s 14ms/step - loss: 2.3027 - acc: 0.0973 - val_loss: 2.3038 - val_acc: 0.0625\n",
            "\n",
            "Epoch 00002: val_loss did not improve from 1.04665\n",
            "Epoch 3/8\n",
            "625/625 [==============================] - 9s 14ms/step - loss: 2.3027 - acc: 0.0972 - val_loss: 2.3040 - val_acc: 0.1406\n",
            "\n",
            "Epoch 00003: val_loss did not improve from 1.04665\n",
            "Epoch 4/8\n",
            "625/625 [==============================] - 9s 14ms/step - loss: 2.3027 - acc: 0.0973 - val_loss: 2.3031 - val_acc: 0.0625\n",
            "\n",
            "Epoch 00004: val_loss did not improve from 1.04665\n",
            "Epoch 5/8\n",
            "625/625 [==============================] - 9s 14ms/step - loss: 2.3027 - acc: 0.0973 - val_loss: 2.3028 - val_acc: 0.1875\n",
            "\n",
            "Epoch 00005: val_loss did not improve from 1.04665\n",
            "Epoch 6/8\n",
            "625/625 [==============================] - 8s 14ms/step - loss: 2.3027 - acc: 0.0973 - val_loss: 2.3023 - val_acc: 0.1250\n",
            "\n",
            "Epoch 00006: val_loss did not improve from 1.04665\n",
            "Epoch 7/8\n",
            "625/625 [==============================] - 9s 14ms/step - loss: 2.3027 - acc: 0.0973 - val_loss: 2.3046 - val_acc: 0.0781\n",
            "\n",
            "Epoch 00007: val_loss did not improve from 1.04665\n",
            "Epoch 8/8\n",
            "625/625 [==============================] - 8s 14ms/step - loss: 2.3027 - acc: 0.0973 - val_loss: 2.3022 - val_acc: 0.1094\n",
            "\n",
            "Epoch 00008: val_loss did not improve from 1.04665\n"
          ],
          "name": "stdout"
        }
      ]
    },
    {
      "cell_type": "markdown",
      "metadata": {
        "colab_type": "text",
        "id": "f4zmkcTgBXx8"
      },
      "source": [
        "### Task 4.1 Batch Normalization\n",
        "Modify the network by introducing batch normalization layer(s) and train the model. "
      ]
    },
    {
      "cell_type": "code",
      "metadata": {
        "id": "87qjALqprVh8",
        "colab_type": "code",
        "colab": {}
      },
      "source": [
        "model_name = 'model_batch_normalized'\n",
        "if not os.path.exists('./'+model_name):\n",
        "    os.mkdir(model_name)"
      ],
      "execution_count": 0,
      "outputs": []
    },
    {
      "cell_type": "code",
      "metadata": {
        "id": "y89nMflhrVh-",
        "colab_type": "code",
        "colab": {}
      },
      "source": [
        "input_img = Input(shape=(input_shape_cifar), name='input_img')\n",
        "l = Conv2D(64, kernel_size=(2,2), activation='tanh')(input_img)\n",
        "l = BatchNormalization()(l)\n",
        "l = Conv2D(32, (4, 4) ,activation='tanh')(l)\n",
        "\n",
        "l = Flatten()(l)\n",
        "layer4 = Dense(120, activation='relu')(l)\n",
        "layer5 = Dense(60, activation='relu')(l)\n",
        "\n",
        "output = Dense(num_classes, activation='softmax')(layer5)\n",
        "model_normalized = Model(inputs= input_img , outputs=output)\n",
        "# model_normalized = None"
      ],
      "execution_count": 0,
      "outputs": []
    },
    {
      "cell_type": "code",
      "metadata": {
        "id": "76k_lpgHrViA",
        "colab_type": "code",
        "colab": {}
      },
      "source": [
        "adam = Adam(lr=0.001)\n",
        "model_normalized.compile(loss='categorical_crossentropy', \n",
        "              optimizer=adam, \n",
        "              metrics=['accuracy'])"
      ],
      "execution_count": 0,
      "outputs": []
    },
    {
      "cell_type": "code",
      "metadata": {
        "id": "v4pArYp7rViC",
        "colab_type": "code",
        "outputId": "581c3d67-be9b-49dd-f98a-ff178c9973d2",
        "colab": {
          "base_uri": "https://localhost:8080/",
          "height": 391
        }
      },
      "source": [
        "plot_model(model_normalized, model_name+'/'+model_name+'.png')\n",
        "model_normalized.summary()"
      ],
      "execution_count": 0,
      "outputs": [
        {
          "output_type": "stream",
          "text": [
            "Model: \"model_10\"\n",
            "_________________________________________________________________\n",
            "Layer (type)                 Output Shape              Param #   \n",
            "=================================================================\n",
            "input_img (InputLayer)       (None, 32, 32, 3)         0         \n",
            "_________________________________________________________________\n",
            "conv2d_19 (Conv2D)           (None, 31, 31, 64)        832       \n",
            "_________________________________________________________________\n",
            "batch_normalization_2 (Batch (None, 31, 31, 64)        256       \n",
            "_________________________________________________________________\n",
            "conv2d_20 (Conv2D)           (None, 28, 28, 32)        32800     \n",
            "_________________________________________________________________\n",
            "flatten_10 (Flatten)         (None, 25088)             0         \n",
            "_________________________________________________________________\n",
            "dense_27 (Dense)             (None, 60)                1505340   \n",
            "_________________________________________________________________\n",
            "dense_28 (Dense)             (None, 10)                610       \n",
            "=================================================================\n",
            "Total params: 1,539,838\n",
            "Trainable params: 1,539,710\n",
            "Non-trainable params: 128\n",
            "_________________________________________________________________\n"
          ],
          "name": "stdout"
        }
      ]
    },
    {
      "cell_type": "code",
      "metadata": {
        "id": "INsWtz6IrViF",
        "colab_type": "code",
        "colab": {}
      },
      "source": [
        "# Add the following checkpoints: ModelCheckpoint, CSVLogger\n",
        "checkpoint = ModelCheckpoint(model_name+'/' + model_name+'.h5' ,verbose =1 , \n",
        "                             save_best_only= True  , monitor='val_loss' , mode= 'auto')\n",
        "\n",
        "cvslogger = CSVLogger(model_name+'/logs.h5', separator = ',', append=True)\n",
        "tensorboard = LRTensorBoard(log_dir='./'+model_name, histogram_freq=0, write_graph=True, write_grads=1, \n",
        "                            batch_size=batch_size, write_images=True)\n",
        "\n",
        "callbacks = [checkpoint,csvlogger ,tensorboard,TensorBoardColabCallback(tbc)]"
      ],
      "execution_count": 0,
      "outputs": []
    },
    {
      "cell_type": "code",
      "metadata": {
        "id": "xYWZiwmhrViG",
        "colab_type": "code",
        "colab": {}
      },
      "source": [
        "# Create three generators\n",
        "n_train_gen = data_generator(train_files, train_dir,batch_size , preprocessing='norm')\n",
        "n_Valid_gen = data_generator(val_files ,train_dir, batch_size  , preprocessing='norm')\n",
        "# norm_test_gen = data_generator(test_files ,batch_size   , preprocessing='mean_shift')"
      ],
      "execution_count": 0,
      "outputs": []
    },
    {
      "cell_type": "code",
      "metadata": {
        "id": "W8ufoNRkrViI",
        "colab_type": "code",
        "outputId": "11c30f03-0592-4ab1-8fe7-634588e91405",
        "colab": {
          "base_uri": "https://localhost:8080/",
          "height": 561
        }
      },
      "source": [
        "hist_normalized=[]\n",
        "hist_normalized =model_normalized.fit_generator(n_train_gen,\n",
        "                            epochs=epochs,\n",
        "                            validation_data=n_Valid_gen,\n",
        "                            validation_steps=1,\n",
        "                            steps_per_epoch=len(train_files)//batch_size,\n",
        "                            callbacks=callbacks,\n",
        "                            verbose=1)\n",
        "all_histories.append(hist_normalized)"
      ],
      "execution_count": 0,
      "outputs": [
        {
          "output_type": "stream",
          "text": [
            "Epoch 1/8\n",
            "625/625 [==============================] - 10s 15ms/step - loss: 0.3204 - acc: 0.8795 - val_loss: 2.8878 - val_acc: 0.4844\n",
            "\n",
            "Epoch 00001: val_loss improved from inf to 2.88784, saving model to model_batch_normalized/model_batch_normalized.h5\n",
            "Epoch 2/8\n",
            "625/625 [==============================] - 10s 15ms/step - loss: 0.3198 - acc: 0.8811 - val_loss: 3.3508 - val_acc: 0.4688\n",
            "\n",
            "Epoch 00002: val_loss did not improve from 2.88784\n",
            "Epoch 3/8\n",
            "625/625 [==============================] - 10s 15ms/step - loss: 0.3122 - acc: 0.8844 - val_loss: 2.6707 - val_acc: 0.5156\n",
            "\n",
            "Epoch 00003: val_loss improved from 2.88784 to 2.67070, saving model to model_batch_normalized/model_batch_normalized.h5\n",
            "Epoch 4/8\n",
            "625/625 [==============================] - 9s 15ms/step - loss: 0.3042 - acc: 0.8869 - val_loss: 1.9800 - val_acc: 0.5625\n",
            "\n",
            "Epoch 00004: val_loss improved from 2.67070 to 1.97997, saving model to model_batch_normalized/model_batch_normalized.h5\n",
            "Epoch 5/8\n",
            "625/625 [==============================] - 10s 15ms/step - loss: 0.2856 - acc: 0.8937 - val_loss: 2.3109 - val_acc: 0.5469\n",
            "\n",
            "Epoch 00005: val_loss did not improve from 1.97997\n",
            "Epoch 6/8\n",
            "625/625 [==============================] - 9s 15ms/step - loss: 0.2828 - acc: 0.8968 - val_loss: 2.7460 - val_acc: 0.5312\n",
            "\n",
            "Epoch 00006: val_loss did not improve from 1.97997\n",
            "Epoch 7/8\n",
            "625/625 [==============================] - 9s 15ms/step - loss: 0.2761 - acc: 0.8990 - val_loss: 1.9060 - val_acc: 0.5469\n",
            "\n",
            "Epoch 00007: val_loss improved from 1.97997 to 1.90600, saving model to model_batch_normalized/model_batch_normalized.h5\n",
            "Epoch 8/8\n",
            "625/625 [==============================] - 10s 16ms/step - loss: 0.2484 - acc: 0.9068 - val_loss: 4.1331 - val_acc: 0.4688\n",
            "\n",
            "Epoch 00008: val_loss did not improve from 1.90600\n"
          ],
          "name": "stdout"
        }
      ]
    },
    {
      "cell_type": "markdown",
      "metadata": {
        "colab_type": "text",
        "id": "o909dVu8BXyq"
      },
      "source": [
        "### Task 5.1 Comparison of all models\n",
        "In this task you need to plot the loss and accuracy for all models and __discuss__ which model has better performance and why do you think so."
      ]
    },
    {
      "cell_type": "code",
      "metadata": {
        "id": "Q6XgGvaXrViS",
        "colab_type": "code",
        "colab": {}
      },
      "source": [
        "# Plot accuracy of all models\n",
        "def plotHistory(histories, names, metric):\n",
        "    plt.clf() \n",
        "    x_axis = list(range(epochs))\n",
        "    # print(x_axis)\n",
        "    for hist, name in zip(histories, names):\n",
        "        plt.plot(x_axis, hist.history[metric], label=metric+'_'+name)\n",
        "        plt.scatter(x_axis, hist.history[metric])\n",
        "    plt.legend()\n",
        "    plt.title(metric)\n",
        "    plt.show()"
      ],
      "execution_count": 0,
      "outputs": []
    },
    {
      "cell_type": "code",
      "metadata": {
        "id": "wjYBIPeirViV",
        "colab_type": "code",
        "outputId": "6adbd4e0-d49a-4225-91b1-e69700eba18a",
        "colab": {
          "base_uri": "https://localhost:8080/",
          "height": 707
        }
      },
      "source": [
        "# Plot histories of all models\n",
        "labels = ['Base', 'Preprocessed', 'MaxPooling', 'Dropout', 'BatchNormalized']\n",
        "plotHistory(all_histories, labels, 'acc')\n",
        "plotHistory(all_histories, labels, 'loss')"
      ],
      "execution_count": 0,
      "outputs": [
        {
          "output_type": "display_data",
          "data": {
            "image/png": "[encoded data removed]",
            "text/plain": [
              "<Figure size 576x396 with 1 Axes>"
            ]
          },
          "metadata": {
            "tags": []
          }
        },
        {
          "output_type": "display_data",
          "data": {
            "image/png": "[encoded data removed]",
            "text/plain": [
              "<Figure size 576x396 with 1 Axes>"
            ]
          },
          "metadata": {
            "tags": []
          }
        }
      ]
    },
    {
      "cell_type": "code",
      "metadata": {
        "id": "yjusSuV-2-Vl",
        "colab_type": "code",
        "outputId": "61914d6b-e8df-43cf-9167-048b86dc0bc7",
        "colab": {
          "base_uri": "https://localhost:8080/",
          "height": 68
        }
      },
      "source": [
        "# !tensorboard --logdir '/content/base_model/'\n",
        "# !tensorboard --logdir '/content/base_model/events.out.tfevents.1585442227.8c42a7d4210c'\n",
        "# !pip install tensorboard\n",
        "from tensorboardcolab import TensorBoardColab, TensorBoardColabCallback\n",
        "\n",
        "tbc=TensorBoardColab()"
      ],
      "execution_count": 0,
      "outputs": [
        {
          "output_type": "stream",
          "text": [
            "Wait for 8 seconds...\n",
            "TensorBoard link:\n",
            "https://29555c7d.ngrok.io\n"
          ],
          "name": "stdout"
        }
      ]
    },
    {
      "cell_type": "markdown",
      "metadata": {
        "colab_type": "text",
        "id": "NaXAaopFBXy3"
      },
      "source": [
        "#### Tensorboard \n",
        "We will be covering Tensorboard in Friday's tutorial. You can complete this part after the tutorial (21st Feb 2020)"
      ]
    },
    {
      "cell_type": "markdown",
      "metadata": {
        "colab_type": "text",
        "id": "OcG6aCGyBXy6"
      },
      "source": [
        "You can run TensorBoard using the following command\n",
        "```tensorboard --logdir=path/to/log-directory\n",
        "```\n",
        "Now for logs of all above trained models, take snapshot of the _loss_ and _accuracy_ plots and save in the directory where this notebook is. To show that saved plot here in notebook use following command in _markdown_ cell. \n",
        "<br> __![](path_to_image)__"
      ]
    },
    {
      "cell_type": "markdown",
      "metadata": {
        "colab_type": "text",
        "id": "RngWaOtqBXy7"
      },
      "source": [
        "**Add cells to include loss plots**"
      ]
    },
    {
      "cell_type": "markdown",
      "metadata": {
        "colab_type": "text",
        "id": "_c92z2Y-BXy9"
      },
      "source": [
        "##### Add your analysis here"
      ]
    },
    {
      "cell_type": "markdown",
      "metadata": {
        "colab_type": "text",
        "id": "YJ5T75QRBXy9"
      },
      "source": [
        ""
      ]
    },
    {
      "cell_type": "markdown",
      "metadata": {
        "colab_type": "text",
        "id": "pfwlGoJHBXy-"
      },
      "source": [
        "### Task 5.2 Visualize Activations\n",
        "We will be covering this in Friday's tutorial. You can complete this part after the tutorial (21st Feb 2020). In this task, you are required to visualize the activations (outputs) of both the convolution layers of a model."
      ]
    },
    {
      "cell_type": "code",
      "metadata": {
        "colab_type": "code",
        "id": "kCPLXfVoBXy-",
        "outputId": "91a29e45-38b2-46ba-a9b1-ba1d1c019a85",
        "colab": {
          "base_uri": "https://localhost:8080/",
          "height": 364
        }
      },
      "source": [
        "# Load any image here\n",
        "test_image = [y for y in test_files if 'dog' in y]\n",
        "test_image = cv2.imread(test_dir + test_image[10])\n",
        "plt.gca().grid(False);\n",
        "\n",
        "plt.imshow(test_image)"
      ],
      "execution_count": 0,
      "outputs": [
        {
          "output_type": "execute_result",
          "data": {
            "text/plain": [
              "<matplotlib.image.AxesImage at 0x7efc489a62b0>"
            ]
          },
          "metadata": {
            "tags": []
          },
          "execution_count": 224
        },
        {
          "output_type": "display_data",
          "data": {
            "image/png": "[encoded data removed]",
            "text/plain": [
              "<Figure size 576x396 with 1 Axes>"
            ]
          },
          "metadata": {
            "tags": []
          }
        }
      ]
    },
    {
      "cell_type": "code",
      "metadata": {
        "colab_type": "code",
        "id": "_IDDRwFiBXzA",
        "outputId": "7377b075-0513-47e5-d179-c4267584eff3",
        "colab": {
          "base_uri": "https://localhost:8080/",
          "height": 34
        }
      },
      "source": [
        "test_reshaped = test_image.reshape((1,32,32,3))\n",
        "pred = model_normalized.predict(test_reshaped)\n",
        "print('Label: ', classes[np.argmax(pred)])\n",
        "# Get a prediction from ANY ONE of your models and output its label"
      ],
      "execution_count": 0,
      "outputs": [
        {
          "output_type": "stream",
          "text": [
            "Label:  horse\n"
          ],
          "name": "stdout"
        }
      ]
    },
    {
      "cell_type": "code",
      "metadata": {
        "colab_type": "code",
        "id": "Z_8tknJ7BXzG",
        "colab": {}
      },
      "source": [
        "# Create a Model from the Input layer to a Convolutional Layer\n",
        "layer_outputs = [layer.output for layer in model_normalized.layers]\n",
        "\n",
        "pred_model = Model(inputs = model_normalized.input  , outputs=layer_outputs[1])"
      ],
      "execution_count": 0,
      "outputs": []
    },
    {
      "cell_type": "code",
      "metadata": {
        "colab_type": "code",
        "id": "XpA6ropcBXzK",
        "colab": {}
      },
      "source": [
        "# Get a prediction for your chosen image using this model\n",
        "predicted_activations = pred_model.predict(test_reshaped)"
      ],
      "execution_count": 0,
      "outputs": []
    },
    {
      "cell_type": "code",
      "metadata": {
        "colab_type": "code",
        "id": "Ig-F0MukBXzM",
        "outputId": "a74ccffa-bc01-49a7-c878-3aa9aa6fdc65",
        "colab": {
          "base_uri": "https://localhost:8080/",
          "height": 959
        }
      },
      "source": [
        "# Use your predictions to visualise the activations\n",
        "fig, axes = plt.subplots(nrows=2, ncols=2, figsize=(32,32), dpi=80)\n",
        "\n",
        "for i,ax in enumerate(axes.flatten()):\n",
        "    ax.imshow(predicted_activations[0,:,:,i]);\n",
        "    ax.grid(False);\n",
        "    ax.axis('off');"
      ],
      "execution_count": 0,
      "outputs": [
        {
          "output_type": "display_data",
          "data": {
            "image/png": "[encoded data removed]",
            "text/plain": [
              "<Figure size 2560x2560 with 4 Axes>"
            ]
          },
          "metadata": {
            "tags": []
          }
        }
      ]
    },
    {
      "cell_type": "code",
      "metadata": {
        "colab_type": "code",
        "id": "mwnlVhUZBXzO",
        "colab": {}
      },
      "source": [
        "# Create another model to visualize activations from ANOTHER convolutional layer\n",
        "\n",
        "pred_model = Model (inputs =model_normalized.input  , outputs  = layer_outputs[2])"
      ],
      "execution_count": 0,
      "outputs": []
    },
    {
      "cell_type": "code",
      "metadata": {
        "colab_type": "code",
        "id": "ZwhXK4hJBXzS",
        "colab": {}
      },
      "source": [
        "# You may rename this variable\n",
        "second_predicted_activations = pred_model.predict(test_reshaped)"
      ],
      "execution_count": 0,
      "outputs": []
    },
    {
      "cell_type": "code",
      "metadata": {
        "colab_type": "code",
        "id": "xX8e4tuSBXzV",
        "outputId": "85680094-1b3b-4d89-ee8f-df4f07eca78b",
        "colab": {
          "base_uri": "https://localhost:8080/",
          "height": 939
        }
      },
      "source": [
        "fig, axes = plt.subplots(nrows=4, ncols=4, figsize=(15,15), dpi=80)\n",
        "for i,ax in enumerate(axes.flatten()):\n",
        "    ax.imshow(second_predicted_activations[0,:,:,i]);\n",
        "    ax.grid(False);\n",
        "    ax.axis('off');"
      ],
      "execution_count": 0,
      "outputs": [
        {
          "output_type": "display_data",
          "data": {
            "image/png": "[encoded data removed]",
            "text/plain": [
              "<Figure size 1200x1200 with 16 Axes>"
            ]
          },
          "metadata": {
            "tags": []
          }
        }
      ]
    },
    {
      "cell_type": "markdown",
      "metadata": {
        "colab_type": "text",
        "id": "JoUEEaLDBXzc"
      },
      "source": [
        "Q) What features from your chosen image do you think your model has been able to learn? In terms of filters (weights), what goes on when we add more convolutional layers in our models?\n",
        "\n",
        "\n",
        "\n",
        "\n",
        "The dark patterns show how the mean activation is maximised through the layer. We see that the darker parts emphasize on features of the image. The model was able to find patterns to outline the boundary of the object in the image and also able to find focal points within the image.\n",
        "\n",
        "Adding layers was able to emphasize on specific aspects of the image. Since information is lost with added layers, the features become sparse. There is a possibility of encountering the diminishing gradient problem as the information is lost through different filters.\n",
        "\n",
        "Task 6.1 Effect of learning rate"
      ]
    },
    {
      "cell_type": "markdown",
      "metadata": {
        "colab_type": "text",
        "heading_collapsed": true,
        "id": "vSxvrieXBXzd"
      },
      "source": [
        "### Task 6.1  Effect of learning rate\n",
        "Take the best selected model in __Task 5.1__ and change its learning rate to: \n",
        "- 6.1.1 any value between 5 and 1.\n",
        "- 6.1.2 learning rate = any value between 0.6 and  0.1 \n",
        "- 6.1.3 learning rate = 0.00001\n",
        "\n",
        "and train these three models to compare the effect learning rate."
      ]
    },
    {
      "cell_type": "code",
      "metadata": {
        "colab_type": "code",
        "hidden": true,
        "id": "Z2VkBx1YBXze",
        "outputId": "84ba8ac2-301f-4370-94f8-f9d59af38a2e",
        "colab": {
          "base_uri": "https://localhost:8080/",
          "height": 561
        }
      },
      "source": [
        "# Use code provided in previous tasks\n",
        "all_histories_lr = []\n",
        "\n",
        "learning_rate = 4\n",
        "\n",
        "model_name = 'model_lr_4'\n",
        "\n",
        "if not os.path.exists('./'+model_name):\n",
        "    os.mkdir(model_name)\n",
        "\n",
        "input_img = Input(shape=input_shape_cifar, name='input_img')\n",
        "l = Conv2D(16, kernel_size=(3,3), activation='relu')(input_img)\n",
        "l = Conv2D(32, (3, 3),strides= 2, activation='tanh')(l)\n",
        "l = Flatten()(l)\n",
        "l = Dense(64, activation='relu')(l)\n",
        "output_class = Dense(num_classes, activation='softmax')(l)\n",
        "\n",
        "model_first = Model(inputs=input_img, outputs=output_class)\n",
        "\n",
        "adam = Adam(lr=learning_rate)\n",
        "model_first.compile(loss='mean_squared_error', \n",
        "              optimizer=adam, \n",
        "              metrics=['accuracy'])\n",
        "\n",
        "checkpoint = ModelCheckpoint(model_name+'/'+model_name+'-{epoch:02d}-{val_loss:.2f}.h5', \n",
        "                             monitor='val_loss', verbose=1, save_best_only=True, mode='auto')\n",
        "csvlogger = CSVLogger(model_name+'/logs.csv', separator=',', append=True)\n",
        "reducelr = ReduceLROnPlateau(monitor='val_loss', factor=0.2, patience=3, min_lr=0.000001, min_delta=0.03)\n",
        "tensorboard = LRTensorBoard(log_dir='./'+model_name, histogram_freq=0, write_graph=True, write_grads=1, \n",
        "                            batch_size=batch_size, write_images=True)\n",
        "\n",
        "callbacks = [checkpoint, tensorboard, csvlogger, reducelr]\n",
        "\n",
        "train_gen = data_generator(train_files, train_dir,batch_size , preprocessing='norm')\n",
        "# test_gen = data_generator(test_files,32,'None')\n",
        "val_gen = data_generator(val_files, train_dir,batch_size , preprocessing='norm')\n",
        "\n",
        "\n",
        "\n",
        "\n",
        "hist_first = []\n",
        "hist_first= model_first.fit_generator(train_gen, epochs=epochs, steps_per_epoch=len(train_files)//batch_size,\n",
        "                           validation_data=val_gen,\n",
        "                           validation_steps= int(len(val_files)//batch_size),\n",
        "                           callbacks=callbacks, verbose=1)\n",
        "\n",
        "all_histories_lr.append(hist_first)"
      ],
      "execution_count": 0,
      "outputs": [
        {
          "output_type": "stream",
          "text": [
            "Epoch 1/8\n",
            "625/625 [==============================] - 10s 16ms/step - loss: 0.1801 - acc: 0.0990 - val_loss: 0.1792 - val_acc: 0.1042\n",
            "\n",
            "Epoch 00001: val_loss improved from inf to 0.17917, saving model to model_lr_4/model_lr_4-01-0.18.h5\n",
            "Epoch 2/8\n",
            "625/625 [==============================] - 10s 15ms/step - loss: 0.1802 - acc: 0.0990 - val_loss: 0.1792 - val_acc: 0.1042\n",
            "\n",
            "Epoch 00002: val_loss did not improve from 0.17917\n",
            "Epoch 3/8\n",
            "625/625 [==============================] - 10s 16ms/step - loss: 0.1802 - acc: 0.0990 - val_loss: 0.1792 - val_acc: 0.1042\n",
            "\n",
            "Epoch 00003: val_loss did not improve from 0.17917\n",
            "Epoch 4/8\n",
            "625/625 [==============================] - 10s 16ms/step - loss: 0.1802 - acc: 0.0990 - val_loss: 0.1792 - val_acc: 0.1042\n",
            "\n",
            "Epoch 00004: val_loss did not improve from 0.17917\n",
            "Epoch 5/8\n",
            "625/625 [==============================] - 10s 15ms/step - loss: 0.1802 - acc: 0.0990 - val_loss: 0.1792 - val_acc: 0.1042\n",
            "\n",
            "Epoch 00005: val_loss did not improve from 0.17917\n",
            "Epoch 6/8\n",
            "625/625 [==============================] - 10s 16ms/step - loss: 0.1802 - acc: 0.0990 - val_loss: 0.1792 - val_acc: 0.1042\n",
            "\n",
            "Epoch 00006: val_loss did not improve from 0.17917\n",
            "Epoch 7/8\n",
            "625/625 [==============================] - 10s 16ms/step - loss: 0.1802 - acc: 0.0990 - val_loss: 0.1792 - val_acc: 0.1042\n",
            "\n",
            "Epoch 00007: val_loss did not improve from 0.17917\n",
            "Epoch 8/8\n",
            "625/625 [==============================] - 10s 16ms/step - loss: 0.1802 - acc: 0.0990 - val_loss: 0.1792 - val_acc: 0.1042\n",
            "\n",
            "Epoch 00008: val_loss did not improve from 0.17917\n"
          ],
          "name": "stdout"
        }
      ]
    },
    {
      "cell_type": "code",
      "metadata": {
        "id": "nB_-rkniDIFU",
        "colab_type": "code",
        "outputId": "aa078000-ad4f-4079-a650-30df63affd80",
        "colab": {
          "base_uri": "https://localhost:8080/",
          "height": 561
        }
      },
      "source": [
        "learning_rate = 0.3\n",
        "model_name = 'model_lr_0.3'\n",
        "if not os.path.exists('./'+model_name):\n",
        "    os.mkdir(model_name)\n",
        "input_img = Input(shape=input_shape_cifar, name='input_img')\n",
        "l = Conv2D(16, kernel_size=(3,3), activation='relu')(input_img)\n",
        "l = Conv2D(32, (3, 3),strides= 2, activation='tanh')(l)\n",
        "l = Flatten()(l)\n",
        "l = Dense(64, activation='relu')(l)\n",
        "output_class = Dense(num_classes, activation='softmax')(l)\n",
        "\n",
        "model_second = Model(inputs=input_img, outputs=output_class)\n",
        "\n",
        "adam = Adam(lr=learning_rate)\n",
        "model_second.compile(loss='mean_squared_error', \n",
        "              optimizer=adam, \n",
        "              metrics=['accuracy'])\n",
        "\n",
        "checkpoint = ModelCheckpoint(model_name+'/'+model_name+'-{epoch:02d}-{val_loss:.2f}.h5', \n",
        "                             monitor='val_loss', verbose=1, save_best_only=True, mode='auto')\n",
        "csvlogger = CSVLogger(model_name+'/logs.csv', separator=',', append=True)\n",
        "reducelr = ReduceLROnPlateau(monitor='val_loss', factor=0.2, patience=3, min_lr=0.000001, min_delta=0.03)\n",
        "tensorboard = LRTensorBoard(log_dir='./'+model_name, histogram_freq=0, write_graph=True, write_grads=1, \n",
        "                            batch_size=batch_size, write_images=True)\n",
        "\n",
        "callbacks = [checkpoint, tensorboard, csvlogger, reducelr]\n",
        "\n",
        "train_gen = data_generator(train_files, train_dir,batch_size , preprocessing='norm')\n",
        "val_gen = data_generator(val_files, train_dir,batch_size , preprocessing='norm')\n",
        "\n",
        "\n",
        "\n",
        "\n",
        "hist_second = []\n",
        "hist_second= model_second.fit_generator(train_gen, epochs=epochs, steps_per_epoch=len(train_files)//batch_size,\n",
        "                           validation_data=val_gen,\n",
        "                           validation_steps= len(val_files)//batch_size,\n",
        "                           callbacks=callbacks, verbose=1)\n",
        "\n",
        "all_histories_lr.append(hist_second)"
      ],
      "execution_count": 0,
      "outputs": [
        {
          "output_type": "stream",
          "text": [
            "Epoch 1/8\n",
            "625/625 [==============================] - 10s 16ms/step - loss: 0.1800 - acc: 0.0992 - val_loss: 0.1794 - val_acc: 0.1028\n",
            "\n",
            "Epoch 00001: val_loss improved from inf to 0.17945, saving model to model_lr_0.3/model_lr_0.3-01-0.18.h5\n",
            "Epoch 2/8\n",
            "625/625 [==============================] - 10s 15ms/step - loss: 0.1801 - acc: 0.0993 - val_loss: 0.1794 - val_acc: 0.1028\n",
            "\n",
            "Epoch 00002: val_loss did not improve from 0.17945\n",
            "Epoch 3/8\n",
            "625/625 [==============================] - 10s 16ms/step - loss: 0.1801 - acc: 0.0993 - val_loss: 0.1794 - val_acc: 0.1028\n",
            "\n",
            "Epoch 00003: val_loss did not improve from 0.17945\n",
            "Epoch 4/8\n",
            "625/625 [==============================] - 10s 16ms/step - loss: 0.1801 - acc: 0.0993 - val_loss: 0.1794 - val_acc: 0.1028\n",
            "\n",
            "Epoch 00004: val_loss did not improve from 0.17945\n",
            "Epoch 5/8\n",
            "625/625 [==============================] - 10s 15ms/step - loss: 0.1801 - acc: 0.0993 - val_loss: 0.1794 - val_acc: 0.1028\n",
            "\n",
            "Epoch 00005: val_loss did not improve from 0.17945\n",
            "Epoch 6/8\n",
            "625/625 [==============================] - 10s 16ms/step - loss: 0.1801 - acc: 0.0993 - val_loss: 0.1794 - val_acc: 0.1028\n",
            "\n",
            "Epoch 00006: val_loss did not improve from 0.17945\n",
            "Epoch 7/8\n",
            "625/625 [==============================] - 10s 16ms/step - loss: 0.1801 - acc: 0.0993 - val_loss: 0.1794 - val_acc: 0.1028\n",
            "\n",
            "Epoch 00007: val_loss did not improve from 0.17945\n",
            "Epoch 8/8\n",
            "625/625 [==============================] - 10s 16ms/step - loss: 0.1801 - acc: 0.0993 - val_loss: 0.1794 - val_acc: 0.1028\n",
            "\n",
            "Epoch 00008: val_loss did not improve from 0.17945\n"
          ],
          "name": "stdout"
        }
      ]
    },
    {
      "cell_type": "code",
      "metadata": {
        "id": "laiIwG2nDSgn",
        "colab_type": "code",
        "outputId": "391499dc-72d9-4fcd-be96-e95e55a83042",
        "colab": {
          "base_uri": "https://localhost:8080/",
          "height": 561
        }
      },
      "source": [
        "learning_rate = 0.00001\n",
        "model_name = 'model_lr_0.00001'\n",
        "\n",
        "if not os.path.exists('./'+model_name):\n",
        "    os.mkdir(model_name)\n",
        "\n",
        "input_img = Input(shape=input_shape_cifar, name='input_img')\n",
        "l = Conv2D(16, kernel_size=(3,3), activation='relu')(input_img)\n",
        "l = Conv2D(32, (3, 3),strides= 2, activation='tanh')(l)\n",
        "l = Flatten()(l)\n",
        "l = Dense(64, activation='relu')(l)\n",
        "output_class = Dense(num_classes, activation='softmax')(l)\n",
        "\n",
        "model_third = Model(inputs=input_img, outputs=output_class)\n",
        "\n",
        "adam = Adam(lr=learning_rate)\n",
        "model_third.compile(loss='mean_squared_error', \n",
        "              optimizer=adam, \n",
        "              metrics=['accuracy'])\n",
        "\n",
        "checkpoint = ModelCheckpoint(model_name+'/'+model_name+'-{epoch:02d}-{val_loss:.2f}.h5', \n",
        "                             monitor='val_loss', verbose=1, save_best_only=True, mode='auto')\n",
        "\n",
        "csvlogger = CSVLogger(model_name+'/logs.csv', separator=',', append=True)\n",
        "\n",
        "reducelr = ReduceLROnPlateau(monitor='val_loss', factor=0.2, patience=3, min_lr=0.000001, min_delta=0.03)\n",
        "\n",
        "tensorboard = LRTensorBoard(log_dir='./'+model_name, histogram_freq=0, write_graph=True, write_grads=1, \n",
        "                            batch_size=batch_size, write_images=True)\n",
        "\n",
        "callbacks = [checkpoint, tensorboard, csvlogger, reducelr]\n",
        "\n",
        "\n",
        "\n",
        "train_gen = data_generator(train_files, train_dir,batch_size , preprocessing='norm')\n",
        "val_gen = data_generator(train_files, train_dir,batch_size , preprocessing='norm')\n",
        "\n",
        "\n",
        "hist_third = []\n",
        "hist_third= model_third.fit_generator(train_gen, epochs=epochs, steps_per_epoch=len(train_files)//batch_size,\n",
        "                           validation_data=val_gen,\n",
        "                           validation_steps= len(val_files)//batch_size,\n",
        "                           callbacks=callbacks, verbose=1)\n",
        "\n",
        "all_histories_lr.append(hist_third)\n"
      ],
      "execution_count": 0,
      "outputs": [
        {
          "output_type": "stream",
          "text": [
            "Epoch 1/8\n",
            "625/625 [==============================] - 10s 16ms/step - loss: 0.0872 - acc: 0.2126 - val_loss: 0.0847 - val_acc: 0.2767\n",
            "\n",
            "Epoch 00001: val_loss improved from inf to 0.08474, saving model to model_lr_0.00001/model_lr_0.00001-01-0.08.h5\n",
            "Epoch 2/8\n",
            "625/625 [==============================] - 10s 15ms/step - loss: 0.0829 - acc: 0.3037 - val_loss: 0.0813 - val_acc: 0.3288\n",
            "\n",
            "Epoch 00002: val_loss improved from 0.08474 to 0.08134, saving model to model_lr_0.00001/model_lr_0.00001-02-0.08.h5\n",
            "Epoch 3/8\n",
            "625/625 [==============================] - 10s 16ms/step - loss: 0.0805 - acc: 0.3328 - val_loss: 0.0792 - val_acc: 0.3569\n",
            "\n",
            "Epoch 00003: val_loss improved from 0.08134 to 0.07920, saving model to model_lr_0.00001/model_lr_0.00001-03-0.08.h5\n",
            "Epoch 4/8\n",
            "625/625 [==============================] - 10s 16ms/step - loss: 0.0788 - acc: 0.3537 - val_loss: 0.0784 - val_acc: 0.3534\n",
            "\n",
            "Epoch 00004: val_loss improved from 0.07920 to 0.07843, saving model to model_lr_0.00001/model_lr_0.00001-04-0.08.h5\n",
            "Epoch 5/8\n",
            "625/625 [==============================] - 10s 15ms/step - loss: 0.0779 - acc: 0.3662 - val_loss: 0.0778 - val_acc: 0.3681\n",
            "\n",
            "Epoch 00005: val_loss improved from 0.07843 to 0.07782, saving model to model_lr_0.00001/model_lr_0.00001-05-0.08.h5\n",
            "Epoch 6/8\n",
            "625/625 [==============================] - 10s 16ms/step - loss: 0.0776 - acc: 0.3682 - val_loss: 0.0774 - val_acc: 0.3752\n",
            "\n",
            "Epoch 00006: val_loss improved from 0.07782 to 0.07735, saving model to model_lr_0.00001/model_lr_0.00001-06-0.08.h5\n",
            "Epoch 7/8\n",
            "625/625 [==============================] - 10s 16ms/step - loss: 0.0774 - acc: 0.3703 - val_loss: 0.0771 - val_acc: 0.3757\n",
            "\n",
            "Epoch 00007: val_loss improved from 0.07735 to 0.07714, saving model to model_lr_0.00001/model_lr_0.00001-07-0.08.h5\n",
            "Epoch 8/8\n",
            "625/625 [==============================] - 10s 16ms/step - loss: 0.0773 - acc: 0.3728 - val_loss: 0.0775 - val_acc: 0.3653\n",
            "\n",
            "Epoch 00008: val_loss did not improve from 0.07714\n"
          ],
          "name": "stdout"
        }
      ]
    },
    {
      "cell_type": "markdown",
      "metadata": {
        "colab_type": "text",
        "id": "FiYYj9cpBXzi"
      },
      "source": [
        "### Task 6.2 Plot loss and accuracy\n",
        "Plot the loss and accracy for best model selected in task 5.1, and model trained in 6.1.1, 6.1.2 and 6.1.3 task. Give the detailed analysis of the effect of learning rate in your words and select the best learning rate for this problem."
      ]
    },
    {
      "cell_type": "code",
      "metadata": {
        "colab_type": "code",
        "id": "nWIask-_BXzj",
        "outputId": "28b30446-2972-4848-887c-d2034a81496e",
        "colab": {
          "base_uri": "https://localhost:8080/",
          "height": 707
        }
      },
      "source": [
        "# Use plotHistory to make these plots\n",
        "labels = ['lr=4', 'lr=0.00001','lr=0.3']\n",
        "# print(len(all_histories))\n",
        "plotHistory(all_histories_lr, labels, 'acc')\n",
        "plotHistory(all_histories_lr, labels, 'loss')"
      ],
      "execution_count": 0,
      "outputs": [
        {
          "output_type": "display_data",
          "data": {
            "image/png": "[encoded data removed]",
            "text/plain": [
              "<Figure size 576x396 with 1 Axes>"
            ]
          },
          "metadata": {
            "tags": []
          }
        },
        {
          "output_type": "display_data",
          "data": {
            "image/png": "[encoded data removed]",
            "text/plain": [
              "<Figure size 576x396 with 1 Axes>"
            ]
          },
          "metadata": {
            "tags": []
          }
        }
      ]
    },
    {
      "cell_type": "markdown",
      "metadata": {
        "colab_type": "text",
        "id": "M12Ck9M6BXzl"
      },
      "source": [
        "Analysis:"
      ]
    }
  ]
}